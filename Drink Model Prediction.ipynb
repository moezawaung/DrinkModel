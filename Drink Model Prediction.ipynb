{
 "cells": [
  {
   "cell_type": "code",
   "execution_count": 29,
   "id": "91eaf2aa-bcd5-4930-a50f-f4309ac0a401",
   "metadata": {},
   "outputs": [],
   "source": [
    "import numpy as np\n",
    "import os\n",
    "import cv2\n",
    "import glob\n",
    "import tensorflow as tf\n",
    "from tensorflow.keras.models import Sequential\n",
    "from tensorflow.keras.layers import Conv2D, MaxPooling2D, Flatten, Dense, Dropout, BatchNormalization\n",
    "from tensorflow.keras.utils import to_categorical\n",
    "from sklearn.model_selection import train_test_split\n",
    "from collections import Counter\n",
    "from sklearn.metrics import classification_report\n",
    "from tensorflow.keras.callbacks import EarlyStopping, ModelCheckpoint"
   ]
  },
  {
   "cell_type": "code",
   "execution_count": 30,
   "id": "c710041d-3f56-4cde-964a-73bdb1acdb99",
   "metadata": {},
   "outputs": [],
   "source": [
    "#Load the Data\n",
    "x = []\n",
    "y = []\n",
    "\n",
    "paths = [\n",
    "    ('Images/coca_cola_images', 0),\n",
    "    ('Images/heineken_beer_images', 1),\n",
    "    ('Images/pepsi_images', 2)\n",
    "     ]"
   ]
  },
  {
   "cell_type": "code",
   "execution_count": 31,
   "id": "f6386f4d-fa50-4c97-afbc-6f4519b2f17d",
   "metadata": {},
   "outputs": [],
   "source": [
    "for path, label in paths:\n",
    "    for filename in glob.glob(os.path.join(path, '*.jpg')):\n",
    "        img = cv2.imread(filename, cv2.IMREAD_COLOR)\n",
    "        img = cv2.cvtColor(img, cv2.COLOR_BGR2RGB)\n",
    "        x.append(img)\n",
    "        y.append(label)\n",
    "\n",
    "#shapes = [img.shape for img in x]\n",
    "#most_common_shape = Counter(shapes).most_common(1)[0][0]\n",
    "#x_resized = [ cv2.resize(img, (most_common_shape[1], most_common_shape[0])) for img in x]\n",
    "x_resized = [cv2.resize(img, (128, 128)) for img in x]\n"
   ]
  },
  {
   "cell_type": "code",
   "execution_count": 32,
   "id": "2e4d76f0-153e-4171-9367-8db782501a0c",
   "metadata": {},
   "outputs": [
    {
     "name": "stdout",
     "output_type": "stream",
     "text": [
      "2999 2999\n",
      "(270, 230, 3) 0\n",
      "(270, 230, 3) 0\n",
      "(270, 230, 3) 0\n"
     ]
    }
   ],
   "source": [
    "print(len(x), len(y))\n",
    "for i in range(3):\n",
    "    print(x[i].shape, y[i])"
   ]
  },
  {
   "cell_type": "code",
   "execution_count": 33,
   "id": "e5ef1e31-9cc1-4b08-a108-ed206301b2cb",
   "metadata": {},
   "outputs": [
    {
     "name": "stdout",
     "output_type": "stream",
     "text": [
      "2999 2999\n"
     ]
    }
   ],
   "source": [
    "x = np.array(x_resized, dtype=np.float32) / 255.0\n",
    "y = to_categorical(y)\n",
    "y = y[:len(x)]\n",
    "print(len(x), len(y))  # should both be 2999\n"
   ]
  },
  {
   "cell_type": "code",
   "execution_count": 34,
   "id": "95ccaa4c-c41b-4070-a790-1c886f9d42d7",
   "metadata": {},
   "outputs": [],
   "source": [
    "x_train, x_temp, y_train, y_temp = train_test_split(x, y, test_size = 0.2)\n",
    "x_val, x_test, y_val, y_test = train_test_split(x_temp, y_temp, test_size = 0.2)"
   ]
  },
  {
   "cell_type": "code",
   "execution_count": 35,
   "id": "2e525f46-39fb-4a98-945a-12bc5eaa4d64",
   "metadata": {},
   "outputs": [],
   "source": [
    "model = Sequential()\n",
    "model.add(Conv2D(32, (3,3), activation = 'relu', input_shape = x_train.shape[1:]))\n",
    "model.add(BatchNormalization())\n",
    "model.add(MaxPooling2D(pool_size = (2, 2)))\n",
    "model.add(Dropout(0.2))\n",
    "\n",
    "model.add(Conv2D(64, (3,3), activation = 'relu',))\n",
    "model.add(BatchNormalization())\n",
    "model.add(MaxPooling2D(pool_size = (2, 2)))\n",
    "model.add(Dropout(0.3))\n",
    "\n",
    "model.add(Flatten())\n",
    "model.add(Dense(128, activation = 'relu'))\n",
    "model.add(BatchNormalization())\n",
    "model.add(Dropout(0.5))\n",
    "model.add(Dense(3, activation = 'softmax'))\n",
    "\n",
    "model.compile(loss = 'categorical_crossentropy', optimizer = 'adam', metrics = ['accuracy'])\n"
   ]
  },
  {
   "cell_type": "code",
   "execution_count": 36,
   "id": "c1613cc4-f421-4952-a3db-750f9c574b87",
   "metadata": {},
   "outputs": [],
   "source": [
    "early_stopping = EarlyStopping(monitor = 'val_loss', patience = 5, restore_best_weights = True)\n",
    "model_checkpoint = ModelCheckpoint('best_model_v2.keras', save_best_only = True, monitor = 'val_loss')"
   ]
  },
  {
   "cell_type": "code",
   "execution_count": 37,
   "id": "9d205922-c8a1-4ade-97d3-d58299176966",
   "metadata": {},
   "outputs": [
    {
     "name": "stdout",
     "output_type": "stream",
     "text": [
      "Epoch 1/10\n",
      "\u001b[1m120/120\u001b[0m \u001b[32m━━━━━━━━━━━━━━━━━━━━\u001b[0m\u001b[37m\u001b[0m \u001b[1m49s\u001b[0m 383ms/step - accuracy: 0.8281 - loss: 0.4470 - val_accuracy: 0.3938 - val_loss: 1.7195\n",
      "Epoch 2/10\n",
      "\u001b[1m120/120\u001b[0m \u001b[32m━━━━━━━━━━━━━━━━━━━━\u001b[0m\u001b[37m\u001b[0m \u001b[1m46s\u001b[0m 384ms/step - accuracy: 0.9353 - loss: 0.1653 - val_accuracy: 0.7375 - val_loss: 0.8169\n",
      "Epoch 3/10\n",
      "\u001b[1m120/120\u001b[0m \u001b[32m━━━━━━━━━━━━━━━━━━━━\u001b[0m\u001b[37m\u001b[0m \u001b[1m46s\u001b[0m 380ms/step - accuracy: 0.9715 - loss: 0.0989 - val_accuracy: 0.7958 - val_loss: 0.5020\n",
      "Epoch 4/10\n",
      "\u001b[1m120/120\u001b[0m \u001b[32m━━━━━━━━━━━━━━━━━━━━\u001b[0m\u001b[37m\u001b[0m \u001b[1m44s\u001b[0m 370ms/step - accuracy: 0.9725 - loss: 0.0772 - val_accuracy: 0.9604 - val_loss: 0.1220\n",
      "Epoch 5/10\n",
      "\u001b[1m120/120\u001b[0m \u001b[32m━━━━━━━━━━━━━━━━━━━━\u001b[0m\u001b[37m\u001b[0m \u001b[1m45s\u001b[0m 373ms/step - accuracy: 0.9800 - loss: 0.0616 - val_accuracy: 0.9604 - val_loss: 0.1160\n",
      "Epoch 6/10\n",
      "\u001b[1m120/120\u001b[0m \u001b[32m━━━━━━━━━━━━━━━━━━━━\u001b[0m\u001b[37m\u001b[0m \u001b[1m45s\u001b[0m 376ms/step - accuracy: 0.9801 - loss: 0.0499 - val_accuracy: 0.9896 - val_loss: 0.0272\n",
      "Epoch 7/10\n",
      "\u001b[1m120/120\u001b[0m \u001b[32m━━━━━━━━━━━━━━━━━━━━\u001b[0m\u001b[37m\u001b[0m \u001b[1m45s\u001b[0m 376ms/step - accuracy: 0.9883 - loss: 0.0383 - val_accuracy: 0.9688 - val_loss: 0.0662\n",
      "Epoch 8/10\n",
      "\u001b[1m120/120\u001b[0m \u001b[32m━━━━━━━━━━━━━━━━━━━━\u001b[0m\u001b[37m\u001b[0m \u001b[1m45s\u001b[0m 374ms/step - accuracy: 0.9795 - loss: 0.0644 - val_accuracy: 0.9917 - val_loss: 0.0201\n",
      "Epoch 9/10\n",
      "\u001b[1m120/120\u001b[0m \u001b[32m━━━━━━━━━━━━━━━━━━━━\u001b[0m\u001b[37m\u001b[0m \u001b[1m45s\u001b[0m 372ms/step - accuracy: 0.9792 - loss: 0.0554 - val_accuracy: 0.9979 - val_loss: 0.0125\n",
      "Epoch 10/10\n",
      "\u001b[1m120/120\u001b[0m \u001b[32m━━━━━━━━━━━━━━━━━━━━\u001b[0m\u001b[37m\u001b[0m \u001b[1m44s\u001b[0m 367ms/step - accuracy: 0.9909 - loss: 0.0290 - val_accuracy: 0.9958 - val_loss: 0.0179\n"
     ]
    }
   ],
   "source": [
    "history = model.fit(x_train, y_train, epochs = 10, batch_size = 20, validation_data = (x_val, y_val), callbacks = [early_stopping, model_checkpoint]) "
   ]
  },
  {
   "cell_type": "code",
   "execution_count": 38,
   "id": "68986a95-37dc-40d4-91a3-2b70341cfd82",
   "metadata": {},
   "outputs": [],
   "source": [
    "with open('training_logsv2.txt', 'w') as log_file:\n",
    "    for epoch, (loss, acc, val_loss, val_acc) in enumerate(zip(history.history['loss'], history.history['accuracy'], history.history['val_loss'], history.history['val_accuracy'])):\n",
    "        log_file.write(f'Epoch{epoch+1} - loss: {loss:.4f}, accuracy: {acc: .4f}, val_loss: {val_loss: .4f}, val_accuracy: {val_acc: .4f}')\n",
    "                                                           "
   ]
  },
  {
   "cell_type": "code",
   "execution_count": 39,
   "id": "a746c78e-6f53-4868-95f4-6ab4f2e26f30",
   "metadata": {},
   "outputs": [
    {
     "name": "stdout",
     "output_type": "stream",
     "text": [
      "\u001b[1m4/4\u001b[0m \u001b[32m━━━━━━━━━━━━━━━━━━━━\u001b[0m\u001b[37m\u001b[0m \u001b[1m1s\u001b[0m 109ms/step - accuracy: 0.9946 - loss: 0.0107\n",
      "Test Accuracy:  99.17 %\n",
      "\u001b[1m4/4\u001b[0m \u001b[32m━━━━━━━━━━━━━━━━━━━━\u001b[0m\u001b[37m\u001b[0m \u001b[1m1s\u001b[0m 120ms/step\n"
     ]
    }
   ],
   "source": [
    "loss, accuracy = model.evaluate(x_test, y_test)\n",
    "print(f'Test Accuracy: {accuracy*100: .2f} %')\n",
    "\n",
    "y_pred = model.predict(x_test)\n",
    "y_pred_classes = np.argmax(y_pred, axis = 1)\n",
    "y_true_classes = np.argmax(y_test, axis = 1)\n",
    "\n",
    "report = classification_report(y_true_classes, y_pred_classes, target_names = ['Coca-Cola', 'Heineken','Pepsi'])\n",
    "with open('Classification_reportv2.txt', 'w') as report_file:\n",
    "    report_file.write(report)"
   ]
  },
  {
   "cell_type": "code",
   "execution_count": null,
   "id": "1e54b0b9-43e4-4175-8f96-bf1707b2af11",
   "metadata": {},
   "outputs": [],
   "source": []
  }
 ],
 "metadata": {
  "kernelspec": {
   "display_name": "Python 3 (ipykernel)",
   "language": "python",
   "name": "python3"
  },
  "language_info": {
   "codemirror_mode": {
    "name": "ipython",
    "version": 3
   },
   "file_extension": ".py",
   "mimetype": "text/x-python",
   "name": "python",
   "nbconvert_exporter": "python",
   "pygments_lexer": "ipython3",
   "version": "3.9.23"
  }
 },
 "nbformat": 4,
 "nbformat_minor": 5
}
